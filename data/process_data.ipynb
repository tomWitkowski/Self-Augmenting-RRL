{
 "cells": [
  {
   "cell_type": "markdown",
   "metadata": {},
   "source": [
    "The data was accesssed on https://www.histdata.com/"
   ]
  },
  {
   "cell_type": "code",
   "execution_count": null,
   "metadata": {},
   "outputs": [],
   "source": [
    "import os, zipfile, pandas as pd\n",
    "\n",
    "RAW_DIR, PROC_DIR = 'raw', 'processed'\n",
    "os.makedirs(PROC_DIR, exist_ok=True)\n",
    "\n",
    "CURRENCY_ZIPS = {\n",
    "    'EURUSD': [f'HISTDATA_COM_MT_EURUSD_M120{y}.zip' for y in (22, 23, 24)],\n",
    "    'GBPUSD': [f'HISTDATA_COM_MT_GBPUSD_M120{y}.zip' for y in (22, 23, 24)],\n",
    "    'USDJPY': [f'HISTDATA_COM_MT_USDJPY_M120{y}.zip' for y in (22, 23, 24)],\n",
    "    'USDCHF': [f'HISTDATA_COM_MT_USDCHF_M120{y}.zip' for y in (22, 23, 24)],\n",
    "}\n",
    "\n",
    "ASK_FACTOR = 1.00015           # constant spread: bid × 1.00015 → ask\n",
    "\n",
    "def one_zip_to_df(zip_path: str) -> pd.DataFrame:\n",
    "    with zipfile.ZipFile(zip_path) as z:\n",
    "        with z.open(z.namelist()[0]) as f:\n",
    "            cols = ['date', 'time', 'open', 'high', 'low', 'close', 'vol']\n",
    "            df = pd.read_csv(f, sep=r',', names=cols, engine='python')\n",
    "    dt = pd.to_datetime(df['date'] + ' ' + df['time'],\n",
    "                        format='%Y.%m.%d %H:%M')\n",
    "    return df.assign(time=dt).set_index('time')[['close']]\n",
    "\n",
    "for pair, zips in CURRENCY_ZIPS.items():\n",
    "    dfs = [one_zip_to_df(os.path.join(RAW_DIR, z)) for z in zips\n",
    "           if os.path.isfile(os.path.join(RAW_DIR, z))]\n",
    "    if not dfs:\n",
    "        print(f'No files for {pair}')\n",
    "        continue\n",
    "\n",
    "    hourly = (pd.concat(dfs)\n",
    "                .sort_index()\n",
    "                .resample('15min')\n",
    "                .last()\n",
    "                .dropna()\n",
    "                .rename(columns={'close': 'bid'}))\n",
    "\n",
    "    hourly['ask'] = hourly['bid'] * ASK_FACTOR\n",
    "\n",
    "    out = os.path.join(PROC_DIR, f'{pair}_15min.csv')\n",
    "    hourly.to_csv(out, float_format='%.5f')\n",
    "    print('saved', out)"
   ]
  }
 ],
 "metadata": {
  "kernelspec": {
   "display_name": "base",
   "language": "python",
   "name": "python3"
  },
  "language_info": {
   "codemirror_mode": {
    "name": "ipython",
    "version": 3
   },
   "file_extension": ".py",
   "mimetype": "text/x-python",
   "name": "python",
   "nbconvert_exporter": "python",
   "pygments_lexer": "ipython3",
   "version": "3.9.12"
  }
 },
 "nbformat": 4,
 "nbformat_minor": 2
}
